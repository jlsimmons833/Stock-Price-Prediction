{
 "cells": [
  {
   "cell_type": "code",
   "execution_count": 4,
   "metadata": {},
   "outputs": [],
   "source": [
    "from keras.models import load_model\n",
    "\n",
    "# Load the model\n",
    "model = load_model('./src/model.h5')"
   ]
  },
  {
   "cell_type": "code",
   "execution_count": 80,
   "metadata": {},
   "outputs": [],
   "source": [
    "import pandas as pd\n",
    "import pprint\n",
    "import numpy as np\n",
    "\n",
    "def normalize_windows(win_data):\n",
    "    norm_data = []\n",
    "    f = win_data.iloc[0].item()\n",
    "    for row in win_data.itertuples():\n",
    "        norm_data.append(float(row[1]) / f - 1)\n",
    "    return norm_data\n",
    "\n",
    "# Load the data\n",
    "data = pd.read_csv('./src/sp500_prices.csv')\n",
    "excess_rows = len(data) % 50 #calculate the excess data considering the batch size of 50\n",
    "data = data[excess_rows:] #remove the excess data\n",
    "\n",
    "\n",
    "norm_data = normalize_windows(data)\n",
    "X_te = np.array(norm_data)\n",
    "X_te = np.reshape(X_te,(-1,50, 1))"
   ]
  },
  {
   "cell_type": "code",
   "execution_count": 81,
   "metadata": {},
   "outputs": [
    {
     "name": "stdout",
     "output_type": "stream",
     "text": [
      "16/16 [==============================] - 2s 13ms/step\n"
     ]
    }
   ],
   "source": [
    "predictions = model.predict(X_te)\n"
   ]
  },
  {
   "cell_type": "code",
   "execution_count": 68,
   "metadata": {},
   "outputs": [
    {
     "name": "stdout",
     "output_type": "stream",
     "text": [
      "[[2.4804149]]\n"
     ]
    }
   ],
   "source": [
    "# Example for binary classification\n",
    "\n",
    "print(predictions)\n",
    "true_labels = (data.iloc[:,0].diff() > 0).astype(int)  # Assumes 'Close' is the closing price\n",
    "predicted_labels = (predictions > 0.5).astype(int)\n"
   ]
  }
 ],
 "metadata": {
  "kernelspec": {
   "display_name": ".venv",
   "language": "python",
   "name": "python3"
  },
  "language_info": {
   "codemirror_mode": {
    "name": "ipython",
    "version": 3
   },
   "file_extension": ".py",
   "mimetype": "text/x-python",
   "name": "python",
   "nbconvert_exporter": "python",
   "pygments_lexer": "ipython3",
   "version": "3.11.0"
  }
 },
 "nbformat": 4,
 "nbformat_minor": 2
}
